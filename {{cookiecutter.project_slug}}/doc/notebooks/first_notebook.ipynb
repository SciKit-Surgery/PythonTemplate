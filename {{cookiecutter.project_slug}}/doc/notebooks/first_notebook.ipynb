{
 "cells": [
  {
   "cell_type": "markdown",
   "metadata": {},
   "source": [
    "# First notebook\n",
    "\n",
    "You can write up experiments in notebooks, and they automatically get generated into Sphinx docs, for example on readthedocs.\n",
    "\n",
    "See [this](https://scikit-surgerytf.readthedocs.io/en/latest/notebooks/tutorial_reusable_code_design.html) and [this](https://scikit-surgerytf.readthedocs.io/en/latest/notebooks/tutorial_reusable_code_example.html) examples."
   ]
  },
  {
   "cell_type": "code",
   "execution_count": null,
   "metadata": {},
   "outputs": [],
   "source": [
    "# To get code from this project to run."
   ]
  }
 ],
 "metadata": {
  "kernelspec": {
   "display_name": "Python 3",
   "language": "python",
   "name": "python3"
  },
  "language_info": {
   "codemirror_mode": {
    "name": "ipython",
    "version": 3
   },
   "file_extension": ".py",
   "mimetype": "text/x-python",
   "name": "python",
   "nbconvert_exporter": "python",
   "pygments_lexer": "ipython3",
   "version": "3.7.0"
  }
 },
 "nbformat": 4,
 "nbformat_minor": 2
}
